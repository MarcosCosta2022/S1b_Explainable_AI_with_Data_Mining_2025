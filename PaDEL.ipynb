{
 "cells": [
  {
   "cell_type": "markdown",
   "id": "110b8831",
   "metadata": {},
   "source": [
    "# PaDEL - PaDEL-Descriptor for molecular fingerprints\n"
   ]
  },
  {
   "cell_type": "markdown",
   "id": "9f494750",
   "metadata": {},
   "source": [
    "## Introduction\n"
   ]
  },
  {
   "cell_type": "markdown",
   "id": "271472b6",
   "metadata": {},
   "source": [
    "Description of the files:\n",
    "- Header: The first three lines are the header, containing the molecule name or ID , program information, and comments.\n",
    "- Counts Line: Mentions the number of atoms, bonds, and other structural features.\n",
    "- Atom Block: This is a list of all the atoms in the molecule. Each line represents one atom and specifies its properties in columns:\n",
    "    - Atom serial number: The atom's x, y, and z coordinates.\n",
    "    - The element symbol (e.g., C for carbon, O for oxygen).\n",
    "- Bond Block: This block follows the atoms and defines how they are connected. Each line represents one bond:\n",
    "    - Column 1: The index number of the first atom in the bond (from the Atom Block).\n",
    "    - Column 2: The index number of the second atom.\n",
    "    - Column 3: The bond type (e.g., 1 = single, 2 = double).\n",
    "\n",
    "After the bond block, there are additional sections that gives more information about the molecule."
   ]
  },
  {
   "cell_type": "markdown",
   "id": "5d227692",
   "metadata": {},
   "source": [
    "## Extraction of Zips files\n"
   ]
  },
  {
   "cell_type": "code",
   "execution_count": null,
   "id": "0dfdb093",
   "metadata": {},
   "outputs": [],
   "source": [
    "import os\n",
    "import gzip\n",
    "import shutil\n",
    "\n",
    "# Define paths\n",
    "source_dir = 'datasets/SDFssmallset/'\n",
    "dest_dir = 'datasets/SDFssmallset_extracted/'\n",
    "\n",
    "# Create folder\n",
    "os.makedirs(dest_dir, exist_ok=True)\n",
    "\n",
    "# Loop through each file in the source directory\n",
    "for filename in os.listdir(source_dir):\n",
    "    # Check if the file is a .gz file\n",
    "    if filename.endswith('.sdf.gz'):\n",
    "        # Construct the full file paths\n",
    "        source_path = os.path.join(source_dir, filename)\n",
    "        # Create the new filename by removing .gz\n",
    "        output_filename = filename[:-3] \n",
    "        dest_path = os.path.join(dest_dir, output_filename)\n",
    "\n",
    "        print(f\"Extracting {filename} to {dest_dir}...\")\n",
    "\n",
    "        # Open the compressed file and write the extracted content to the destination\n",
    "        with gzip.open(source_path, 'rb') as f_in:\n",
    "            with open(dest_path, 'wb') as f_out:\n",
    "                shutil.copyfileobj(f_in, f_out)\n",
    "    \n",
    "\n",
    "print(\"\\nExtraction complete!\")"
   ]
  },
  {
   "cell_type": "markdown",
   "id": "3eefe97c",
   "metadata": {},
   "source": [
    "## Pre-Processing"
   ]
  },
  {
   "cell_type": "code",
   "execution_count": null,
   "id": "77b95851",
   "metadata": {},
   "outputs": [],
   "source": []
  }
 ],
 "metadata": {
  "kernelspec": {
   "display_name": "Python 3",
   "language": "python",
   "name": "python3"
  },
  "language_info": {
   "codemirror_mode": {
    "name": "ipython",
    "version": 3
   },
   "file_extension": ".py",
   "mimetype": "text/x-python",
   "name": "python",
   "nbconvert_exporter": "python",
   "pygments_lexer": "ipython3",
   "version": "3.13.2"
  }
 },
 "nbformat": 4,
 "nbformat_minor": 5
}
