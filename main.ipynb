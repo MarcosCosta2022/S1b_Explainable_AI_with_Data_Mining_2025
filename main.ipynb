{
 "cells": [
  {
   "cell_type": "markdown",
   "id": "dc67509e",
   "metadata": {},
   "source": [
    "## SMILES Dataset"
   ]
  },
  {
   "cell_type": "markdown",
   "id": "ffb65b33",
   "metadata": {},
   "source": [
    "Put molecules in a .smi file to use PaDEL-Descriptor."
   ]
  },
  {
   "cell_type": "code",
   "execution_count": 1,
   "id": "0f44ac33",
   "metadata": {},
   "outputs": [
    {
     "name": "stdout",
     "output_type": "stream",
     "text": [
      "Saved molecules.smi — use this in PaDEL.\n"
     ]
    }
   ],
   "source": [
    "import pandas as pd\n",
    "from sklearn.model_selection import train_test_split\n",
    "from sklearn.ensemble import RandomForestRegressor\n",
    "from sklearn.metrics import r2_score, mean_squared_error\n",
    "\n",
    "# Load your dataset\n",
    "df = pd.read_csv(\"./datasets/SMILES_Big_Data_Set.csv\")  # Replace with your file path\n",
    "\n",
    "# Make sure the file has at least: SMILES and pIC50\n",
    "# Save SMILES to .smi (PaDEL input format: SMILES + ID)\n",
    "with open(\"generated/molecules.smi\", \"w\") as f:\n",
    "    for i, row in df.iterrows():\n",
    "        f.write(f\"{row['SMILES']}\\tmol{i}\\n\")\n",
    "\n",
    "print(\"Saved molecules.smi — use this in PaDEL.\")"
   ]
  }
 ],
 "metadata": {
  "kernelspec": {
   "display_name": "Python 3",
   "language": "python",
   "name": "python3"
  },
  "language_info": {
   "codemirror_mode": {
    "name": "ipython",
    "version": 3
   },
   "file_extension": ".py",
   "mimetype": "text/x-python",
   "name": "python",
   "nbconvert_exporter": "python",
   "pygments_lexer": "ipython3",
   "version": "3.13.7"
  }
 },
 "nbformat": 4,
 "nbformat_minor": 5
}
